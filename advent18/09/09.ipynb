{
 "cells": [
  {
   "cell_type": "code",
   "execution_count": 1,
   "metadata": {},
   "outputs": [],
   "source": [
    "import re\n",
    "import collections\n"
   ]
  },
  {
   "cell_type": "code",
   "execution_count": 2,
   "metadata": {},
   "outputs": [],
   "source": [
    "with open(\"input.txt\") as f:\n",
    "    data = f.read().strip()\n",
    "\n",
    "init_num_players, init_max_marble = [int(x) for x in re.findall(r'\\d+', data)][:2]\n"
   ]
  },
  {
   "cell_type": "code",
   "execution_count": 3,
   "metadata": {},
   "outputs": [
    {
     "name": "stdout",
     "output_type": "stream",
     "text": [
      "418237\n",
      "3505711612\n"
     ]
    }
   ],
   "source": [
    "class Node(object):\n",
    "    def __init__(self, left, right, value):\n",
    "        self.left = left\n",
    "        self.right = right\n",
    "        self.value = value\n",
    "\n",
    "def get_clockwise(current, offset):\n",
    "    for x in range(offset):\n",
    "        current = current.right\n",
    "    return current\n",
    "\n",
    "def get_counter_clockwise(current, offset):\n",
    "    for x in range(offset):\n",
    "        current = current.left\n",
    "    return current\n",
    "\n",
    "def dump(head):\n",
    "    result = []\n",
    "    current = head\n",
    "    while True:\n",
    "        result.append(str(current.value))\n",
    "        current = current.right\n",
    "        if current.value == head.value:\n",
    "            break\n",
    "    print (\",\".join(result))\n",
    "\n",
    "def calc_max_score(num_players, max_marble):\n",
    "\n",
    "    current = Node(None, None, 0)\n",
    "    current.left = current\n",
    "    current.right = current\n",
    "\n",
    "    head = current\n",
    "\n",
    "    player_id = 0\n",
    "\n",
    "    scores = [0]*num_players\n",
    "\n",
    "    for m in range(1, max_marble+1):\n",
    "\n",
    "        if m % 23 == 0:\n",
    "            scores[player_id] += m\n",
    "            to_remove = get_counter_clockwise(current, 7)\n",
    "\n",
    "            before = to_remove.left\n",
    "            after = to_remove.right\n",
    "            scores[player_id] += to_remove.value\n",
    "            before.right = after\n",
    "            after.left = before\n",
    "            current = after\n",
    "\n",
    "        else:\n",
    "            before = get_clockwise(current, 1)\n",
    "            after = get_clockwise(current, 2)\n",
    "            new_current = Node(before, after, m)\n",
    "            before.right = new_current\n",
    "            after.left = new_current\n",
    "            current = new_current\n",
    "\n",
    "        player_id = (player_id + 1)%num_players\n",
    "\n",
    "    return max(scores)\n",
    "\n",
    "\n",
    "print (calc_max_score(init_num_players, init_max_marble))\n",
    "print (calc_max_score(init_num_players, init_max_marble*100))\n"
   ]
  },
  {
   "cell_type": "code",
   "execution_count": null,
   "metadata": {},
   "outputs": [],
   "source": []
  }
 ],
 "metadata": {
  "kernelspec": {
   "display_name": "Python 3",
   "language": "python",
   "name": "python3"
  },
  "language_info": {
   "codemirror_mode": {
    "name": "ipython",
    "version": 3
   },
   "file_extension": ".py",
   "mimetype": "text/x-python",
   "name": "python",
   "nbconvert_exporter": "python",
   "pygments_lexer": "ipython3",
   "version": "3.7.1"
  }
 },
 "nbformat": 4,
 "nbformat_minor": 2
}
