{
 "cells": [
  {
   "cell_type": "code",
   "execution_count": 1,
   "metadata": {},
   "outputs": [],
   "source": [
    "import collections\n",
    "from dataclasses import dataclass"
   ]
  },
  {
   "cell_type": "code",
   "execution_count": 2,
   "metadata": {},
   "outputs": [],
   "source": [
    "with open('input.txt') as f:\n",
    "    data = [x.rstrip() for x in f.readlines()]\n",
    "    "
   ]
  },
  {
   "cell_type": "code",
   "execution_count": 3,
   "metadata": {},
   "outputs": [
    {
     "data": {
      "text/plain": [
       "(150, 150)"
      ]
     },
     "execution_count": 3,
     "metadata": {},
     "output_type": "execute_result"
    }
   ],
   "source": [
    "num_rows = max(len(x) for x in data)\n",
    "num_cols = len(data)\n",
    "\n",
    "num_rows, num_cols"
   ]
  },
  {
   "cell_type": "code",
   "execution_count": 4,
   "metadata": {},
   "outputs": [
    {
     "data": {
      "text/plain": [
       "[19 6 <,\n",
       " 128 12 ^,\n",
       " 23 15 v,\n",
       " 43 54 ^,\n",
       " 28 66 v,\n",
       " 118 71 ^,\n",
       " 66 84 ^,\n",
       " 84 93 <,\n",
       " 90 115 >,\n",
       " 135 116 ^,\n",
       " 123 122 ^,\n",
       " 138 123 >,\n",
       " 21 130 >,\n",
       " 85 132 <,\n",
       " 17 137 <,\n",
       " 115 139 <,\n",
       " 124 144 >]"
      ]
     },
     "execution_count": 4,
     "metadata": {},
     "output_type": "execute_result"
    }
   ],
   "source": [
    "\n",
    "class Cart:\n",
    "    def __init__(self, x, y, direction):\n",
    "        self.x = x\n",
    "        self.y = y\n",
    "        self.direction = direction\n",
    "        self.next_turn = \"L\"\n",
    "        \n",
    "    def __repr__(self):\n",
    "        return f\"{self.x} {self.y} {self.direction}\"\n",
    "\n",
    "tracks = {}\n",
    "carts_init = []\n",
    "\n",
    "for y,row in enumerate(data):\n",
    "    for x, ch in enumerate(row):\n",
    "        if ch == \" \":\n",
    "            continue\n",
    "\n",
    "        if ch in r'^v<>':\n",
    "\n",
    "            carts_init.append(Cart(x, y, ch))\n",
    "\n",
    "            \n",
    "            if ch in r'^v':\n",
    "                ch = '|'\n",
    "            else:\n",
    "                ch = '-'\n",
    "                \n",
    "        tracks[(x,y)] = ch\n",
    "            \n",
    "\n",
    "carts_init"
   ]
  },
  {
   "cell_type": "code",
   "execution_count": 5,
   "metadata": {},
   "outputs": [
    {
     "name": "stdout",
     "output_type": "stream",
     "text": [
      "43,111\n",
      "44,56\n"
     ]
    }
   ],
   "source": [
    "direction_by_op_map = {\n",
    "    (\"<\", '-') : \"<\",\n",
    "    (\"<\", '/') : \"v\",\n",
    "    (\"<\", '\\\\') : \"^\",\n",
    "    (\"<\", '|') : None,\n",
    "    (\"<\", '+') : None,\n",
    "    \n",
    "    (\">\", '-') : \">\",\n",
    "    (\">\", '/') : \"^\",\n",
    "    (\">\", '\\\\') : \"v\",\n",
    "    (\">\", '|') : None,\n",
    "    (\">\", '+') : None,\n",
    "     \n",
    "    (\"^\", '-') : None,\n",
    "    (\"^\", '/') : \">\",\n",
    "    (\"^\", '\\\\') : \"<\",\n",
    "    (\"^\", '|') : \"^\",\n",
    "    (\"^\", '+') : None,\n",
    "     \n",
    "    (\"v\", '-') : None,\n",
    "    (\"v\", '/') : \"<\",\n",
    "    (\"v\", '\\\\') : \">\",\n",
    "    (\"v\", '|') : \"v\",\n",
    "    (\"v\", '+') : None\n",
    "}\n",
    "\n",
    "turn_map = {\n",
    "    (\"<\", 'L') : \"v\",\n",
    "    (\"<\", 'R') : \"^\",\n",
    "    (\"<\", 'S') : \"<\",\n",
    "    \n",
    "    (\">\", 'L') : \"^\",\n",
    "    (\">\", 'R') : \"v\",\n",
    "    (\">\", 'S') : \">\",  \n",
    "    \n",
    "    (\"^\", 'L') : \"<\",\n",
    "    (\"^\", 'R') : \">\",\n",
    "    (\"^\", 'S') : \"^\",  \n",
    "    \n",
    "    (\"v\", 'L') : \">\",\n",
    "    (\"v\", 'R') : \"<\",\n",
    "    (\"v\", 'S') : \"v\",  \n",
    "}\n",
    "\n",
    "next_turn_lookup = {\n",
    "    'L' : 'S',\n",
    "    'S' : 'R',\n",
    "    'R' : 'L',\n",
    "}\n",
    "\n",
    "\n",
    "tick = 0\n",
    "carts = [Cart(c.x, c.y, c.direction) for c in carts_init]\n",
    "    \n",
    "has_collision = False\n",
    "\n",
    "while len(carts) > 1:\n",
    "    #print (\"tick\", tick)\n",
    "    carts.sort(key=lambda c: (c.y, c.x))\n",
    "    \n",
    "    for c in carts:\n",
    "        t = tracks[(c.x, c.y)]\n",
    "        direction_was = c.direction\n",
    "        \n",
    "        if t == \"+\":\n",
    "            op = (c.direction, c.next_turn)\n",
    "            c.next_turn = next_turn_lookup[c.next_turn]\n",
    "            c.direction = turn_map[op]\n",
    "        else:\n",
    "            op = (c.direction, t)\n",
    "            c.direction = direction_by_op_map[op]\n",
    "                \n",
    "        #print(f\"cart at {c.x} {c.y} on track {t} was {direction_was} now {c.direction}\")\n",
    "        \n",
    "        if c.direction == \"<\":\n",
    "            c.x -=1\n",
    "        elif c.direction == \">\":\n",
    "            c.x += 1\n",
    "        elif c.direction == \"^\":\n",
    "            c.y -= 1\n",
    "        elif c.direction == \"v\":\n",
    "            c.y += 1\n",
    "        else:\n",
    "            raise Exception(\"bad direction:\" + c.direction)\n",
    "            \n",
    "        #print(f\"cart at {c.x} {c.y} \")\n",
    "              \n",
    "        carts_pos = [ (c.x, c.y) for c in carts ]\n",
    "        if len(carts) != len(set(carts_pos)):\n",
    "            \n",
    "            counter = collections.Counter(carts_pos)\n",
    "            pos = counter.most_common(1)[0][0]\n",
    "#             print (f\"[{tick}] Collision! : {pos}\")\n",
    "            \n",
    "            # TODO: we're making a new version of the carts. but this might not be correct since we're iterating still\n",
    "            carts = [c for c in carts if (c.x, c.y) != pos]\n",
    "            \n",
    "            # Part 1\n",
    "            if not has_collision:\n",
    "                print(f\"{pos[0]},{pos[1]}\")\n",
    "                \n",
    "            has_collision = True\n",
    "            \n",
    "#             print (f\"[{tick}] Collision! : {pos} : Carts left: {len(carts)}\")\n",
    "            \n",
    "            \n",
    "    tick += 1\n",
    "            \n",
    "            \n",
    "# print (f\"[{tick}] Last cart: {carts[0]}\")\n",
    "\n",
    "# Part 2\n",
    "print(f\"{carts[0].x},{carts[0].y}\")"
   ]
  },
  {
   "cell_type": "code",
   "execution_count": null,
   "metadata": {},
   "outputs": [],
   "source": []
  }
 ],
 "metadata": {
  "kernelspec": {
   "display_name": "Python 3",
   "language": "python",
   "name": "python3"
  },
  "language_info": {
   "codemirror_mode": {
    "name": "ipython",
    "version": 3
   },
   "file_extension": ".py",
   "mimetype": "text/x-python",
   "name": "python",
   "nbconvert_exporter": "python",
   "pygments_lexer": "ipython3",
   "version": "3.7.1"
  }
 },
 "nbformat": 4,
 "nbformat_minor": 2
}
