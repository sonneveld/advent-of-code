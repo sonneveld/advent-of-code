{
 "cells": [
  {
   "cell_type": "code",
   "execution_count": 1,
   "metadata": {},
   "outputs": [],
   "source": [
    "import collections\n",
    "import re\n"
   ]
  },
  {
   "cell_type": "code",
   "execution_count": 2,
   "metadata": {},
   "outputs": [],
   "source": [
    "with open('input.txt') as f:\n",
    "    data = [x.strip() for x in f.readlines()]"
   ]
  },
  {
   "cell_type": "code",
   "execution_count": 3,
   "metadata": {},
   "outputs": [],
   "source": [
    "nodes = set()\n",
    "deps = []\n",
    "for row in data:\n",
    "    m = re.search(r'Step (\\w) must be finished before step (\\w) can begin', row)\n",
    "    if m:\n",
    "        x = m.group(2, 1)\n",
    "        deps.append(x)\n",
    "        nodes.add(x[0])\n",
    "        nodes.add(x[1])\n",
    "deps.sort()"
   ]
  },
  {
   "cell_type": "code",
   "execution_count": 4,
   "metadata": {},
   "outputs": [
    {
     "data": {
      "text/plain": [
       "'PFKQWJSVUXEMNIHGTYDOZACRLB'"
      ]
     },
     "execution_count": 4,
     "metadata": {},
     "output_type": "execute_result"
    }
   ],
   "source": [
    "# Part 1\n",
    "\n",
    "done = set()\n",
    "remaining = set(nodes)\n",
    "answer = []\n",
    "while len(remaining) > 0:\n",
    "    for x in sorted(remaining):\n",
    "        x_deps = set([d[1] for d in deps if d[0] == x])\n",
    "        x_deps -= done\n",
    "        if len(x_deps) == 0:\n",
    "            answer.append(x)\n",
    "            done.add(x)\n",
    "            remaining.remove(x)\n",
    "            break # needed to resort\n",
    "            \n",
    "\"\".join(answer)"
   ]
  },
  {
   "cell_type": "code",
   "execution_count": 5,
   "metadata": {},
   "outputs": [
    {
     "data": {
      "text/plain": [
       "864"
      ]
     },
     "execution_count": 5,
     "metadata": {},
     "output_type": "execute_result"
    }
   ],
   "source": [
    "# Part 2\n",
    "\n",
    "done = set()\n",
    "remaining = set(nodes)\n",
    "t_remaining = {}\n",
    "for n in nodes:\n",
    "    t_remaining[n] = 61 + ord(n) - ord('A')\n",
    "\n",
    "t = 0\n",
    "while len(remaining) > 0:\n",
    "    \n",
    "    avail = set()\n",
    "    for x in sorted(remaining):\n",
    "        x_deps = set([d[1] for d in deps if d[0] == x])\n",
    "        x_deps -= done\n",
    "        if len(x_deps) == 0 and t_remaining[x] > 0:\n",
    "            avail.add(x)\n",
    "    \n",
    "    avail = list(sorted(avail))\n",
    "    avail = avail[:5]\n",
    "\n",
    "    #print (f'time {t}', avail)\n",
    "    for w in avail:\n",
    "        t_remaining[w] -= 1\n",
    "        if t_remaining[w] == 0:\n",
    "            done.add(w)\n",
    "            remaining.remove(w)\n",
    "    t += 1\n",
    "    \n",
    "t   "
   ]
  }
 ],
 "metadata": {
  "kernelspec": {
   "display_name": "Python 3",
   "language": "python",
   "name": "python3"
  },
  "language_info": {
   "codemirror_mode": {
    "name": "ipython",
    "version": 3
   },
   "file_extension": ".py",
   "mimetype": "text/x-python",
   "name": "python",
   "nbconvert_exporter": "python",
   "pygments_lexer": "ipython3",
   "version": "3.7.1"
  }
 },
 "nbformat": 4,
 "nbformat_minor": 2
}
